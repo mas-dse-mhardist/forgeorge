{
 "cells": [
  {
   "cell_type": "markdown",
   "metadata": {},
   "source": [
    "### Exercise 1: reconstruct a file from segments."
   ]
  },
  {
   "cell_type": "markdown",
   "metadata": {},
   "source": [
    "Each of the files F* is a short segment of the original text file.\n",
    "\n",
    "The format of the file is `(n1: 5 char int),(n2: 5 char int),string`\n",
    "The string represents the content of the file in the range `[n1:n2]`\n",
    "\n",
    "Your task is to reconstruct the original file."
   ]
  },
  {
   "cell_type": "code",
   "execution_count": 4,
   "metadata": {
    "collapsed": false,
    "scrolled": false
   },
   "outputs": [
    {
     "name": "stdout",
     "output_type": "stream",
     "text": [
      "/Users/mikihardisty/Documents/DSE/mhardist/data/NLTK/Chopped\n",
      "The Fulton County Grand Jury said Friday an investigation of Atlanta's recent primary election produced \"no evidence\" that any irregularities took place. The jury further said in term-end presentments that the City Executive Committee, which had over-all charge of the election, \"deserves the praise and thanks of the City of Atlanta\" for the manner in which the election was conducted. The September-October term jury had been charged by Fulton Superior Court Judge Durwood Pye to investigate reports of possible \"irregularities\" in the hard-fought primary which was won by Mayor-nominate Ivan Allen Jr.. \"Only a relative handful of such reports was received\", the jury said, \"considering the widespread interest in the election, the number of voters and the size of this city\". The jury said it did find that many of Georgia's registration and election laws \"are outmoded or inadequate and often ambiguous\". It recommended that Fulton legislators act \"to have these laws studied and revised to the end of modernizing and improving them\". The grand jury commented on a number of other topics, among them the Atlanta and Fulton County purchasing departments which it said \"are well operated and follow generally accepted practices which inure to the best interest of both governments\". Merger proposed However, the jury said it believes \"these two offices should be combined to achieve greater efficiency and reduce the cost of administration\". The City Purchasing Department, the jury said, \"is lacking in experienced clerical personnel as a result of city personnel policies\".\n"
     ]
    }
   ],
   "source": [
    "%cd ~/mhardist/data/NLTK/Chopped\n",
    "\n",
    "import re\n",
    "from operator import itemgetter\n",
    "!cat F* > merged_file\n",
    "\n",
    "file = open('merged_file').read().split('\\n')\n",
    "\n",
    "unscrambled_file_text = [(int(partial[:5].strip()), int(partial[5:10].strip()), partial[10:]) for partial in file if partial != '']\n",
    "\n",
    "full_text =''\n",
    "\n",
    "for a in sorted(unscrambled_file_text, key=itemgetter(1)):\n",
    "    full_text += a[2] \n",
    "\n",
    "#Cleaning up the punctuation in the text\n",
    "full_text = re.sub(r' [`]{2} ', ' \"', full_text)\n",
    "full_text = re.sub(r' [\\']{2} ', '\" ', full_text)\n",
    "full_text = re.sub(r' ([,.]) ', '\\g<1> ' , full_text)\n",
    "full_text = re.sub(r' .$', '.' , full_text)\n",
    "\n",
    "print full_text"
   ]
  },
  {
   "cell_type": "markdown",
   "metadata": {},
   "source": [
    "### Exercise 2:"
   ]
  },
  {
   "cell_type": "markdown",
   "metadata": {
    "collapsed": false
   },
   "source": [
    "- Issue a UNIX command to create a file called Caesar that contains the following lines (include the mistakes!!)\n",
    "\n",
    "Text = \"\"\"Caesar, a great general, is petitioned by several citizens to show clemency to one of his enemies.\n",
    "He declines, pompously speaking of himself in the third person. The group of conspirators then proceeds to stab him.\n",
    "With his dying breath he gasps, \"Et tu, Brute? (\"And you, Brutus?\") Thus falls Caesar.\" \n",
    "The conspirators exult, and Shakespeare inserts a self-referential joke as Cassius says, \n",
    "\"How many ages hence shall this our lofty scene be acted over in states unborn and accents yet unknown!\"\n",
    "\"\"\"\n",
    "\n",
    "- Change the permissions of this file to 666\n",
    "- Issue a UNIX command to determine the file type\n",
    "- Issue a UNIX command to count the number of words in the above text that contains no vowels\n",
    "- Replace the word Caesar wherever it is found in the entire text to Leonidas\n",
    "- Make a copy of the above file without the first and last lines of the text and rename this file to Leonidas"
   ]
  },
  {
   "cell_type": "code",
   "execution_count": 5,
   "metadata": {
    "collapsed": true
   },
   "outputs": [],
   "source": [
    "Text = \"\"\"Caesar, a great general, is petitioned by several citizens to show clemency to one of his enemies.\n",
    "He declines, pompously speaking of himself in the third person. The group of conspirators then proceeds to stab him.\n",
    "With his dying breath he gasps, \"Et tu, Brute? (\"And you, Brutus?\") Thus falls Caesar.\" \n",
    "The conspirators exult, and Shakespeare inserts a self-referential joke as Cassius says, \n",
    "\"How many ages hence shall this our lofty scene be acted over in states unborn and accents yet unknown!\"\n",
    "\"\"\""
   ]
  },
  {
   "cell_type": "markdown",
   "metadata": {},
   "source": [
    "*Issue a UNIX command to create a file called Caesar that contains the following lines (include the mistakes!!)*"
   ]
  },
  {
   "cell_type": "code",
   "execution_count": 6,
   "metadata": {
    "collapsed": false
   },
   "outputs": [],
   "source": [
    "!echo '$Text' > Caesar.txt"
   ]
  },
  {
   "cell_type": "markdown",
   "metadata": {},
   "source": [
    "*Change the permissions of this file to 666*"
   ]
  },
  {
   "cell_type": "code",
   "execution_count": 7,
   "metadata": {
    "collapsed": false
   },
   "outputs": [],
   "source": [
    "!chmod 666 Caesar.txt"
   ]
  },
  {
   "cell_type": "markdown",
   "metadata": {},
   "source": [
    "*Issue a UNIX command to count the number of words in the above text that contains no vowels*"
   ]
  },
  {
   "cell_type": "code",
   "execution_count": 8,
   "metadata": {
    "collapsed": false
   },
   "outputs": [
    {
     "name": "stdout",
     "output_type": "stream",
     "text": [
      "   1 by\r\n"
     ]
    }
   ],
   "source": [
    "!echo '$Text' |tr [:space:] '\\n' | grep -v \"^\\s*$\" | grep -i -v [aeiou] | uniq -c"
   ]
  },
  {
   "cell_type": "markdown",
   "metadata": {},
   "source": [
    "*Replace the word Caesar wherever it is found in the entire text to Leonidas*"
   ]
  },
  {
   "cell_type": "code",
   "execution_count": 9,
   "metadata": {
    "collapsed": false
   },
   "outputs": [],
   "source": [
    "!sed 's/Caesar/Leonidas/' Caesar.txt  | sed '1d' | sed '$d' > Leonidas.txt"
   ]
  },
  {
   "cell_type": "markdown",
   "metadata": {},
   "source": [
    "*The last line looks to be blank.  If by last line you mean the last non blank line, this would be the command:*"
   ]
  },
  {
   "cell_type": "code",
   "execution_count": null,
   "metadata": {
    "collapsed": true
   },
   "outputs": [],
   "source": [
    "#!sed 's/Caesar/Leonidas/' Caesar.txt  | sed '1d' | sed '/^$/d' | sed '$d' > Leonidas.txt"
   ]
  },
  {
   "cell_type": "markdown",
   "metadata": {},
   "source": [
    "### Exercise 3:"
   ]
  },
  {
   "cell_type": "markdown",
   "metadata": {},
   "source": [
    "#### What is the command to count lines,words and characters in a file and how do you make this command display only linecount?"
   ]
  },
  {
   "cell_type": "markdown",
   "metadata": {},
   "source": [
    "- *The command to count lines, words and characters in a file is wc.*\n",
    "- *The -l flag displays linecount, -w displays wordcount*"
   ]
  },
  {
   "cell_type": "markdown",
   "metadata": {},
   "source": [
    "#### Also write a single command that lists the files in the current directory that begin with upper case letters"
   ]
  },
  {
   "cell_type": "code",
   "execution_count": 10,
   "metadata": {
    "collapsed": false
   },
   "outputs": [
    {
     "name": "stdout",
     "output_type": "stream",
     "text": [
      "       4 Leonidas.txt\n",
      "       6 Caesar.txt\n"
     ]
    }
   ],
   "source": [
    "!wc -l Leonidas.txt\n",
    "!wc -l Caesar.txt"
   ]
  },
  {
   "cell_type": "markdown",
   "metadata": {},
   "source": [
    "*There are no existing files with mixed case and lowercase filenames.  First, seeding the directory structure so that we can predict the result and test.*"
   ]
  },
  {
   "cell_type": "code",
   "execution_count": 11,
   "metadata": {
    "collapsed": false
   },
   "outputs": [
    {
     "name": "stdout",
     "output_type": "stream",
     "text": [
      "Hello.txt      F136           F180           F226           F59\r\n",
      "helloWorld.txt F137           F181           F227           F6\r\n",
      "lowercase.txt  F138           F182           F228           F60\r\n",
      "mixed_Case.txt F139           F183           F229           F61\r\n",
      "Leonidas.txt   F14            F185           F23            F62\r\n",
      "Caesar.txt     F140           F186           F230           F63\r\n",
      "merged_file    F141           F187           F231           F64\r\n",
      "F0             F142           F189           F232           F65\r\n",
      "F1             F144           F19            F233           F66\r\n",
      "F10            F145           F190           F24            F67\r\n",
      "F100           F146           F191           F25            F68\r\n",
      "F101           F147           F192           F26            F69\r\n",
      "F102           F148           F193           F27            F7\r\n",
      "F104           F149           F194           F28            F70\r\n",
      "F106           F15            F195           F29            F71\r\n",
      "F107           F151           F196           F3             F72\r\n",
      "F108           F152           F197           F30            F73\r\n",
      "F109           F153           F198           F31            F74\r\n",
      "F11            F154           F199           F32            F75\r\n",
      "F110           F155           F2             F33            F76\r\n",
      "F111           F156           F20            F34            F77\r\n",
      "F112           F157           F200           F35            F78\r\n",
      "F113           F158           F201           F36            F79\r\n",
      "F114           F159           F202           F37            F8\r\n",
      "F115           F16            F204           F38            F80\r\n",
      "F117           F160           F205           F39            F81\r\n",
      "F118           F161           F206           F4             F82\r\n",
      "F119           F162           F207           F40            F83\r\n",
      "F12            F163           F208           F41            F84\r\n",
      "F120           F164           F209           F42            F85\r\n",
      "F121           F165           F210           F43            F86\r\n",
      "F122           F166           F211           F44            F87\r\n",
      "F123           F167           F212           F45            F88\r\n",
      "F124           F168           F213           F46            F9\r\n",
      "F125           F169           F214           F48            F90\r\n",
      "F126           F170           F215           F49            F91\r\n",
      "F127           F171           F216           F5             F93\r\n",
      "F128           F172           F218           F50            F94\r\n",
      "F129           F173           F219           F51            F95\r\n",
      "F13            F174           F22            F52            F96\r\n",
      "F130           F175           F220           F53            F97\r\n",
      "F131           F176           F221           F54            F99\r\n",
      "F132           F177           F222           F55\r\n",
      "F133           F178           F223           F56\r\n",
      "F134           F179           F224           F57\r\n",
      "F135           F18            F225           F58\r\n"
     ]
    }
   ],
   "source": [
    "!touch lowercase.txt  #should not be present\n",
    "!touch mixed_Case.txt #should not be present\n",
    "!touch Hello.txt #should be present\n",
    "!touch helloWorld.txt #should not be present\n",
    "!ls -t #-t sorts for the modification time so we can clearly see these files amongst all of the other files"
   ]
  },
  {
   "cell_type": "markdown",
   "metadata": {},
   "source": [
    "*And now, the list of the files that start with uppercase letters*"
   ]
  },
  {
   "cell_type": "code",
   "execution_count": 12,
   "metadata": {
    "collapsed": false
   },
   "outputs": [
    {
     "name": "stdout",
     "output_type": "stream",
     "text": [
      "Hello.txt    F131         F167         F202         F29          F63\r\n",
      "Leonidas.txt F132         F168         F204         F3           F64\r\n",
      "Caesar.txt   F133         F169         F205         F30          F65\r\n",
      "F0           F134         F170         F206         F31          F66\r\n",
      "F1           F135         F171         F207         F32          F67\r\n",
      "F10          F136         F172         F208         F33          F68\r\n",
      "F100         F137         F173         F209         F34          F69\r\n",
      "F101         F138         F174         F210         F35          F7\r\n",
      "F102         F139         F175         F211         F36          F70\r\n",
      "F104         F14          F176         F212         F37          F71\r\n",
      "F106         F140         F177         F213         F38          F72\r\n",
      "F107         F141         F178         F214         F39          F73\r\n",
      "F108         F142         F179         F215         F4           F74\r\n",
      "F109         F144         F18          F216         F40          F75\r\n",
      "F11          F145         F180         F218         F41          F76\r\n",
      "F110         F146         F181         F219         F42          F77\r\n",
      "F111         F147         F182         F22          F43          F78\r\n",
      "F112         F148         F183         F220         F44          F79\r\n",
      "F113         F149         F185         F221         F45          F8\r\n",
      "F114         F15          F186         F222         F46          F80\r\n",
      "F115         F151         F187         F223         F48          F81\r\n",
      "F117         F152         F189         F224         F49          F82\r\n",
      "F118         F153         F19          F225         F5           F83\r\n",
      "F119         F154         F190         F226         F50          F84\r\n",
      "F12          F155         F191         F227         F51          F85\r\n",
      "F120         F156         F192         F228         F52          F86\r\n",
      "F121         F157         F193         F229         F53          F87\r\n",
      "F122         F158         F194         F23          F54          F88\r\n",
      "F123         F159         F195         F230         F55          F9\r\n",
      "F124         F16          F196         F231         F56          F90\r\n",
      "F125         F160         F197         F232         F57          F91\r\n",
      "F126         F161         F198         F233         F58          F93\r\n",
      "F127         F162         F199         F24          F59          F94\r\n",
      "F128         F163         F2           F25          F6           F95\r\n",
      "F129         F164         F20          F26          F60          F96\r\n",
      "F13          F165         F200         F27          F61          F97\r\n",
      "F130         F166         F201         F28          F62          F99\r\n"
     ]
    }
   ],
   "source": [
    "!ls -t [A-Z]*"
   ]
  },
  {
   "cell_type": "markdown",
   "metadata": {},
   "source": [
    "### Exercise 4:"
   ]
  },
  {
   "cell_type": "markdown",
   "metadata": {},
   "source": [
    "#### Combine the files Caesar and Leonidas and save the combined file as kings"
   ]
  },
  {
   "cell_type": "code",
   "execution_count": 2,
   "metadata": {
    "collapsed": false
   },
   "outputs": [
    {
     "name": "stdout",
     "output_type": "stream",
     "text": [
      "/Users/mikihardisty/Documents/DSE/mhardist/data/NLTK/Chopped\n"
     ]
    }
   ],
   "source": [
    "%cd ~/mhardist/data/NLTK/Chopped\n",
    "\n",
    "!cat Caesar.txt Leonidas.txt > kings.txt  "
   ]
  },
  {
   "cell_type": "markdown",
   "metadata": {},
   "source": [
    "#### Display the contents of this file using more command"
   ]
  },
  {
   "cell_type": "code",
   "execution_count": 14,
   "metadata": {
    "collapsed": false
   },
   "outputs": [
    {
     "name": "stdout",
     "output_type": "stream",
     "text": [
      "\u001b[?1h\u001b=Caesar, a great general, is petitioned by several citizens to show clemency to one of his enemies.\r\n",
      "He declines, pompously speaking of himself in the third person. The group of conspirators then proceeds to stab him.\r\n",
      "With his dying breath he gasps, \"Et tu, Brute? (\"And you, Brutus?\") Thus falls Caesar.\" \r\n",
      "The conspirators exult, and Shakespeare inserts a self-referential joke as Cassius says, \r\n",
      "\"How many ages hence shall this our lofty scene be acted over in states unborn and accents yet unknown!\"\r\n",
      "\r\n",
      "He declines, pompously speaking of himself in the third person. The group of conspirators then proceeds to stab him.\r\n",
      "With his dying breath he gasps, \"Et tu, Brute? (\"And you, Brutus?\") Thus falls Leonidas.\" \r\n",
      "The conspirators exult, and Shakespeare inserts a self-referential joke as Cassius says, \r\n",
      "\"How many ages hence shall this our lofty scene be acted over in states unborn and accents yet unknown!\"\r\n",
      "\r",
      "\u001b[K\u001b[?1l\u001b>"
     ]
    }
   ],
   "source": [
    "!more kings.txt  "
   ]
  },
  {
   "cell_type": "markdown",
   "metadata": {
    "collapsed": false
   },
   "source": [
    "#### Sort this file in reverse alphabetic order and display it by piping it into more"
   ]
  },
  {
   "cell_type": "markdown",
   "metadata": {},
   "source": [
    "*This is the python way to do it. This was a good exercise, but I believe the professor wants us to do this with unix commands. (see below)*"
   ]
  },
  {
   "cell_type": "code",
   "execution_count": 15,
   "metadata": {
    "collapsed": false,
    "scrolled": true
   },
   "outputs": [
    {
     "name": "stdout",
     "output_type": "stream",
     "text": [
      "you\n",
      "you\n",
      "yet\n",
      "yet\n",
      "with\n",
      "with\n",
      "unknown\n",
      "unknown\n",
      "unborn\n",
      "unborn\n",
      "tu\n",
      "tu\n",
      "to\n",
      "to\n",
      "to\n",
      "to\n",
      "thus\n",
      "thus\n",
      "this\n",
      "this\n",
      "third\n",
      "third\n",
      "then\n",
      "then\n",
      "the\n",
      "the\n",
      "the\n",
      "the\n",
      "the\n",
      "the\n",
      "states\n",
      "states\n",
      "stab\n",
      "stab\n",
      "speaking\n",
      "speaking\n",
      "show\n",
      "shall\n",
      "shall\n",
      "shakespeare\n",
      "shakespeare\n",
      "several\n",
      "self-referential\n",
      "self-referential\n",
      "scene\n",
      "scene\n",
      "says\n",
      "says\n",
      "proceeds\n",
      "proceeds\n",
      "pompously\n",
      "pompously\n",
      "petitioned\n",
      "person\n",
      "person\n",
      "over\n",
      "over\n",
      "our\n",
      "our\n",
      "one\n",
      "of\n",
      "of\n",
      "of\n",
      "of\n",
      "of\n",
      "many\n",
      "many\n",
      "lofty\n",
      "lofty\n",
      "leonidas\n",
      "joke\n",
      "joke\n",
      "is\n",
      "inserts\n",
      "inserts\n",
      "in\n",
      "in\n",
      "in\n",
      "in\n",
      "how\n",
      "how\n",
      "his\n",
      "his\n",
      "his\n",
      "himself\n",
      "himself\n",
      "him\n",
      "him\n",
      "hence\n",
      "hence\n",
      "he\n",
      "he\n",
      "he\n",
      "he\n",
      "group\n",
      "group\n",
      "great\n",
      "general\n",
      "gasps\n",
      "gasps\n",
      "falls\n",
      "falls\n",
      "exult\n",
      "exult\n",
      "et\n",
      "et\n",
      "enemies\n",
      "dying\n",
      "dying\n",
      "declines\n",
      "declines\n",
      "conspirators\n",
      "conspirators\n",
      "conspirators\n",
      "conspirators\n",
      "clemency\n",
      "citizens\n",
      "cassius\n",
      "cassius\n",
      "caesar\n",
      "caesar\n",
      "by\n",
      "brutus\n",
      "brutus\n",
      "brute\n",
      "brute\n",
      "breath\n",
      "breath\n",
      "be\n",
      "be\n",
      "as\n",
      "as\n",
      "and\n",
      "and\n",
      "and\n",
      "and\n",
      "and\n",
      "and\n",
      "ages\n",
      "ages\n",
      "acted\n",
      "acted\n",
      "accents\n",
      "accents\n",
      "a\n",
      "a\n",
      "a\n"
     ]
    }
   ],
   "source": [
    "file = open('kings.txt').read()\n",
    "\n",
    "mywords = []\n",
    "\n",
    "for char in ('\\n(?!),.\"'):\n",
    "    file = file.strip().replace(char,' ').lower()\n",
    "    \n",
    "for word in file.split(' ') :\n",
    "    if word != '':\n",
    "        mywords.append(word)\n",
    "        \n",
    "mywords.sort(reverse = True)\n",
    "\n",
    "for a in mywords:\n",
    "    print a"
   ]
  },
  {
   "cell_type": "markdown",
   "metadata": {},
   "source": [
    "*Same exercise, with UNIX commands*"
   ]
  },
  {
   "cell_type": "code",
   "execution_count": 3,
   "metadata": {
    "collapsed": false
   },
   "outputs": [
    {
     "name": "stdout",
     "output_type": "stream",
     "text": [
      "you\r\n",
      "you\r\n",
      "yet\r\n",
      "yet\r\n",
      "unknown\r\n",
      "unknown\r\n",
      "unborn\r\n",
      "unborn\r\n",
      "tu\r\n",
      "tu\r\n",
      "to\r\n",
      "to\r\n",
      "to\r\n",
      "to\r\n",
      "this\r\n",
      "this\r\n",
      "third\r\n",
      "third\r\n",
      "then\r\n",
      "then\r\n",
      "the\r\n",
      "the\r\n",
      "states\r\n",
      "states\r\n",
      "stab\r\n",
      "stab\r\n",
      "speaking\r\n",
      "speaking\r\n",
      "show\r\n",
      "shall\r\n",
      "shall\r\n",
      "several\r\n",
      "self-referential\r\n",
      "self-referential\r\n",
      "scene\r\n",
      "scene\r\n",
      "says\r\n",
      "says\r\n",
      "proceeds\r\n",
      "proceeds\r\n",
      "pompously\r\n",
      "pompously\r\n",
      "petitioned\r\n",
      "person\r\n",
      "person\r\n",
      "over\r\n",
      "over\r\n",
      "our\r\n",
      "our\r\n",
      "one\r\n",
      "of\r\n",
      "of\r\n",
      "of\r\n",
      "of\r\n",
      "of\r\n",
      "many\r\n",
      "many\r\n",
      "lofty\r\n",
      "lofty\r\n",
      "joke\r\n",
      "joke\r\n",
      "is\r\n",
      "inserts\r\n",
      "inserts\r\n",
      "in\r\n",
      "in\r\n",
      "in\r\n",
      "in\r\n",
      "his\r\n",
      "his\r\n",
      "his\r\n",
      "himself\r\n",
      "himself\r\n",
      "him\r\n",
      "him\r\n",
      "hence\r\n",
      "hence\r\n",
      "he\r\n",
      "he\r\n",
      "group\r\n",
      "group\r\n",
      "great\r\n",
      "general\r\n",
      "gasps\r\n",
      "gasps\r\n",
      "falls\r\n",
      "falls\r\n",
      "exult\r\n",
      "exult\r\n",
      "enemies\r\n",
      "dying\r\n",
      "dying\r\n",
      "declines\r\n",
      "declines\r\n",
      "conspirators\r\n",
      "conspirators\r\n",
      "conspirators\r\n",
      "conspirators\r\n",
      "clemency\r\n",
      "citizens\r\n",
      "by\r\n",
      "breath\r\n",
      "breath\r\n",
      "be\r\n",
      "be\r\n",
      "as\r\n",
      "as\r\n",
      "and\r\n",
      "and\r\n",
      "and\r\n",
      "and\r\n",
      "ages\r\n",
      "ages\r\n",
      "acted\r\n",
      "acted\r\n",
      "accents\r\n",
      "accents\r\n",
      "a\r\n",
      "a\r\n",
      "a\r\n",
      "With\r\n",
      "With\r\n",
      "Thus\r\n",
      "Thus\r\n",
      "The\r\n",
      "The\r\n",
      "The\r\n",
      "The\r\n",
      "Shakespeare\r\n",
      "Shakespeare\r\n",
      "Leonidas\r\n",
      "How\r\n",
      "How\r\n",
      "He\r\n",
      "He\r\n",
      "Et\r\n",
      "Et\r\n",
      "Cassius\r\n",
      "Cassius\r\n",
      "Caesar\r\n",
      "Caesar\r\n",
      "Brutus\r\n",
      "Brutus\r\n",
      "Brute\r\n",
      "Brute\r\n",
      "And\r\n",
      "And\r\n"
     ]
    }
   ],
   "source": [
    "!more kings.txt | tr [:space:] '\\n' | grep -v \"^\\s*$\" | tr -d '?)\".(!,' | sort -r"
   ]
  },
  {
   "cell_type": "markdown",
   "metadata": {
    "collapsed": false,
    "scrolled": false
   },
   "source": [
    "*My results are already ported into the standard output via more on the first command before the pipes. One tricky part was the use of the tr [:punct:]. It stripped the hyphen in self-referential so I needed to use a list of punction in the tr instead.*"
   ]
  },
  {
   "cell_type": "code",
   "execution_count": 4,
   "metadata": {
    "collapsed": false
   },
   "outputs": [
    {
     "name": "stdout",
     "output_type": "stream",
     "text": [
      "\u001b[?1h\u001b=With his dying breath he gasps, \"Et tu, Brute? (\"And you, Brutus?\") Thus falls Leonidas.\" \r\n",
      "With his dying breath he gasps, \"Et tu, Brute? (\"And you, Brutus?\") Thus falls Caesar.\" \r\n",
      "The conspirators exult, and Shakespeare inserts a self-referential joke as Cassius says, \r\n",
      "The conspirators exult, and Shakespeare inserts a self-referential joke as Cassius says, \r\n",
      "He declines, pompously speaking of himself in the third person. The group of conspirators then proceeds to stab him.\r\n",
      "He declines, pompously speaking of himself in the third person. The group of conspirators then proceeds to stab him.\r\n",
      "Caesar, a great general, is petitioned by several citizens to show clemency to one of his enemies.\r\n",
      "\"How many ages hence shall this our lofty scene be acted over in states unborn and accents yet unknown!\"\r\n",
      "\"How many ages hence shall this our lofty scene be acted over in states unborn and accents yet unknown!\"\r\n",
      "\r\n",
      "\r",
      "\u001b[K\u001b[?1l\u001b>"
     ]
    }
   ],
   "source": [
    "!sort -r kings.txt | more\n"
   ]
  },
  {
   "cell_type": "markdown",
   "metadata": {},
   "source": [
    "### Exercise 5:"
   ]
  },
  {
   "cell_type": "markdown",
   "metadata": {},
   "source": [
    "#### List all files in your current directory. "
   ]
  },
  {
   "cell_type": "code",
   "execution_count": 17,
   "metadata": {
    "collapsed": false
   },
   "outputs": [
    {
     "name": "stdout",
     "output_type": "stream",
     "text": [
      "Caesar.txt     F141           F187           F231           F64\r\n",
      "F0             F142           F189           F232           F65\r\n",
      "F1             F144           F19            F233           F66\r\n",
      "F10            F145           F190           F24            F67\r\n",
      "F100           F146           F191           F25            F68\r\n",
      "F101           F147           F192           F26            F69\r\n",
      "F102           F148           F193           F27            F7\r\n",
      "F104           F149           F194           F28            F70\r\n",
      "F106           F15            F195           F29            F71\r\n",
      "F107           F151           F196           F3             F72\r\n",
      "F108           F152           F197           F30            F73\r\n",
      "F109           F153           F198           F31            F74\r\n",
      "F11            F154           F199           F32            F75\r\n",
      "F110           F155           F2             F33            F76\r\n",
      "F111           F156           F20            F34            F77\r\n",
      "F112           F157           F200           F35            F78\r\n",
      "F113           F158           F201           F36            F79\r\n",
      "F114           F159           F202           F37            F8\r\n",
      "F115           F16            F204           F38            F80\r\n",
      "F117           F160           F205           F39            F81\r\n",
      "F118           F161           F206           F4             F82\r\n",
      "F119           F162           F207           F40            F83\r\n",
      "F12            F163           F208           F41            F84\r\n",
      "F120           F164           F209           F42            F85\r\n",
      "F121           F165           F210           F43            F86\r\n",
      "F122           F166           F211           F44            F87\r\n",
      "F123           F167           F212           F45            F88\r\n",
      "F124           F168           F213           F46            F9\r\n",
      "F125           F169           F214           F48            F90\r\n",
      "F126           F170           F215           F49            F91\r\n",
      "F127           F171           F216           F5             F93\r\n",
      "F128           F172           F218           F50            F94\r\n",
      "F129           F173           F219           F51            F95\r\n",
      "F13            F174           F22            F52            F96\r\n",
      "F130           F175           F220           F53            F97\r\n",
      "F131           F176           F221           F54            F99\r\n",
      "F132           F177           F222           F55            Hello.txt\r\n",
      "F133           F178           F223           F56            Leonidas.txt\r\n",
      "F134           F179           F224           F57            helloWorld.txt\r\n",
      "F135           F18            F225           F58            kings.txt\r\n",
      "F136           F180           F226           F59            lowercase.txt\r\n",
      "F137           F181           F227           F6             merged_file\r\n",
      "F138           F182           F228           F60            mixed_Case.txt\r\n",
      "F139           F183           F229           F61\r\n",
      "F14            F185           F23            F62\r\n",
      "F140           F186           F230           F63\r\n"
     ]
    }
   ],
   "source": [
    "!ls"
   ]
  },
  {
   "cell_type": "markdown",
   "metadata": {},
   "source": [
    "#### Make a subDirectory and copy all these files in the subdirectory."
   ]
  },
  {
   "cell_type": "code",
   "execution_count": 18,
   "metadata": {
    "collapsed": false
   },
   "outputs": [
    {
     "name": "stdout",
     "output_type": "stream",
     "text": [
      "cp: new is a directory (not copied).\n",
      "/Users/mikihardisty/Documents/DSE/mhardist/data/NLTK/Chopped/new\n"
     ]
    }
   ],
   "source": [
    "#Make a subDirectory and copy all these files in the subdirectory.\n",
    "!mkdir new\n",
    "%cp * new\n",
    "%cd new/"
   ]
  },
  {
   "cell_type": "code",
   "execution_count": null,
   "metadata": {
    "collapsed": true
   },
   "outputs": [],
   "source": [
    "#### Write Unix commands to rename all the files to the format - currentDate_originalname"
   ]
  },
  {
   "cell_type": "code",
   "execution_count": 19,
   "metadata": {
    "collapsed": false
   },
   "outputs": [
    {
     "name": "stdout",
     "output_type": "stream",
     "text": [
      "Caesar.txt -> 20151014_Caesar.txt\n",
      "F0 -> 20151014_F0\n",
      "F1 -> 20151014_F1\n",
      "F10 -> 20151014_F10\n",
      "F100 -> 20151014_F100\n",
      "F101 -> 20151014_F101\n",
      "F102 -> 20151014_F102\n",
      "F104 -> 20151014_F104\n",
      "F106 -> 20151014_F106\n",
      "F107 -> 20151014_F107\n",
      "F108 -> 20151014_F108\n",
      "F109 -> 20151014_F109\n",
      "F11 -> 20151014_F11\n",
      "F110 -> 20151014_F110\n",
      "F111 -> 20151014_F111\n",
      "F112 -> 20151014_F112\n",
      "F113 -> 20151014_F113\n",
      "F114 -> 20151014_F114\n",
      "F115 -> 20151014_F115\n",
      "F117 -> 20151014_F117\n",
      "F118 -> 20151014_F118\n",
      "F119 -> 20151014_F119\n",
      "F12 -> 20151014_F12\n",
      "F120 -> 20151014_F120\n",
      "F121 -> 20151014_F121\n",
      "F122 -> 20151014_F122\n",
      "F123 -> 20151014_F123\n",
      "F124 -> 20151014_F124\n",
      "F125 -> 20151014_F125\n",
      "F126 -> 20151014_F126\n",
      "F127 -> 20151014_F127\n",
      "F128 -> 20151014_F128\n",
      "F129 -> 20151014_F129\n",
      "F13 -> 20151014_F13\n",
      "F130 -> 20151014_F130\n",
      "F131 -> 20151014_F131\n",
      "F132 -> 20151014_F132\n",
      "F133 -> 20151014_F133\n",
      "F134 -> 20151014_F134\n",
      "F135 -> 20151014_F135\n",
      "F136 -> 20151014_F136\n",
      "F137 -> 20151014_F137\n",
      "F138 -> 20151014_F138\n",
      "F139 -> 20151014_F139\n",
      "F14 -> 20151014_F14\n",
      "F140 -> 20151014_F140\n",
      "F141 -> 20151014_F141\n",
      "F142 -> 20151014_F142\n",
      "F144 -> 20151014_F144\n",
      "F145 -> 20151014_F145\n",
      "F146 -> 20151014_F146\n",
      "F147 -> 20151014_F147\n",
      "F148 -> 20151014_F148\n",
      "F149 -> 20151014_F149\n",
      "F15 -> 20151014_F15\n",
      "F151 -> 20151014_F151\n",
      "F152 -> 20151014_F152\n",
      "F153 -> 20151014_F153\n",
      "F154 -> 20151014_F154\n",
      "F155 -> 20151014_F155\n",
      "F156 -> 20151014_F156\n",
      "F157 -> 20151014_F157\n",
      "F158 -> 20151014_F158\n",
      "F159 -> 20151014_F159\n",
      "F16 -> 20151014_F16\n",
      "F160 -> 20151014_F160\n",
      "F161 -> 20151014_F161\n",
      "F162 -> 20151014_F162\n",
      "F163 -> 20151014_F163\n",
      "F164 -> 20151014_F164\n",
      "F165 -> 20151014_F165\n",
      "F166 -> 20151014_F166\n",
      "F167 -> 20151014_F167\n",
      "F168 -> 20151014_F168\n",
      "F169 -> 20151014_F169\n",
      "F170 -> 20151014_F170\n",
      "F171 -> 20151014_F171\n",
      "F172 -> 20151014_F172\n",
      "F173 -> 20151014_F173\n",
      "F174 -> 20151014_F174\n",
      "F175 -> 20151014_F175\n",
      "F176 -> 20151014_F176\n",
      "F177 -> 20151014_F177\n",
      "F178 -> 20151014_F178\n",
      "F179 -> 20151014_F179\n",
      "F18 -> 20151014_F18\n",
      "F180 -> 20151014_F180\n",
      "F181 -> 20151014_F181\n",
      "F182 -> 20151014_F182\n",
      "F183 -> 20151014_F183\n",
      "F185 -> 20151014_F185\n",
      "F186 -> 20151014_F186\n",
      "F187 -> 20151014_F187\n",
      "F189 -> 20151014_F189\n",
      "F19 -> 20151014_F19\n",
      "F190 -> 20151014_F190\n",
      "F191 -> 20151014_F191\n",
      "F192 -> 20151014_F192\n",
      "F193 -> 20151014_F193\n",
      "F194 -> 20151014_F194\n",
      "F195 -> 20151014_F195\n",
      "F196 -> 20151014_F196\n",
      "F197 -> 20151014_F197\n",
      "F198 -> 20151014_F198\n",
      "F199 -> 20151014_F199\n",
      "F2 -> 20151014_F2\n",
      "F20 -> 20151014_F20\n",
      "F200 -> 20151014_F200\n",
      "F201 -> 20151014_F201\n",
      "F202 -> 20151014_F202\n",
      "F204 -> 20151014_F204\n",
      "F205 -> 20151014_F205\n",
      "F206 -> 20151014_F206\n",
      "F207 -> 20151014_F207\n",
      "F208 -> 20151014_F208\n",
      "F209 -> 20151014_F209\n",
      "F210 -> 20151014_F210\n",
      "F211 -> 20151014_F211\n",
      "F212 -> 20151014_F212\n",
      "F213 -> 20151014_F213\n",
      "F214 -> 20151014_F214\n",
      "F215 -> 20151014_F215\n",
      "F216 -> 20151014_F216\n",
      "F218 -> 20151014_F218\n",
      "F219 -> 20151014_F219\n",
      "F22 -> 20151014_F22\n",
      "F220 -> 20151014_F220\n",
      "F221 -> 20151014_F221\n",
      "F222 -> 20151014_F222\n",
      "F223 -> 20151014_F223\n",
      "F224 -> 20151014_F224\n",
      "F225 -> 20151014_F225\n",
      "F226 -> 20151014_F226\n",
      "F227 -> 20151014_F227\n",
      "F228 -> 20151014_F228\n",
      "F229 -> 20151014_F229\n",
      "F23 -> 20151014_F23\n",
      "F230 -> 20151014_F230\n",
      "F231 -> 20151014_F231\n",
      "F232 -> 20151014_F232\n",
      "F233 -> 20151014_F233\n",
      "F24 -> 20151014_F24\n",
      "F25 -> 20151014_F25\n",
      "F26 -> 20151014_F26\n",
      "F27 -> 20151014_F27\n",
      "F28 -> 20151014_F28\n",
      "F29 -> 20151014_F29\n",
      "F3 -> 20151014_F3\n",
      "F30 -> 20151014_F30\n",
      "F31 -> 20151014_F31\n",
      "F32 -> 20151014_F32\n",
      "F33 -> 20151014_F33\n",
      "F34 -> 20151014_F34\n",
      "F35 -> 20151014_F35\n",
      "F36 -> 20151014_F36\n",
      "F37 -> 20151014_F37\n",
      "F38 -> 20151014_F38\n",
      "F39 -> 20151014_F39\n",
      "F4 -> 20151014_F4\n",
      "F40 -> 20151014_F40\n",
      "F41 -> 20151014_F41\n",
      "F42 -> 20151014_F42\n",
      "F43 -> 20151014_F43\n",
      "F44 -> 20151014_F44\n",
      "F45 -> 20151014_F45\n",
      "F46 -> 20151014_F46\n",
      "F48 -> 20151014_F48\n",
      "F49 -> 20151014_F49\n",
      "F5 -> 20151014_F5\n",
      "F50 -> 20151014_F50\n",
      "F51 -> 20151014_F51\n",
      "F52 -> 20151014_F52\n",
      "F53 -> 20151014_F53\n",
      "F54 -> 20151014_F54\n",
      "F55 -> 20151014_F55\n",
      "F56 -> 20151014_F56\n",
      "F57 -> 20151014_F57\n",
      "F58 -> 20151014_F58\n",
      "F59 -> 20151014_F59\n",
      "F6 -> 20151014_F6\n",
      "F60 -> 20151014_F60\n",
      "F61 -> 20151014_F61\n",
      "F62 -> 20151014_F62\n",
      "F63 -> 20151014_F63\n",
      "F64 -> 20151014_F64\n",
      "F65 -> 20151014_F65\n",
      "F66 -> 20151014_F66\n",
      "F67 -> 20151014_F67\n",
      "F68 -> 20151014_F68\n",
      "F69 -> 20151014_F69\n",
      "F7 -> 20151014_F7\n",
      "F70 -> 20151014_F70\n",
      "F71 -> 20151014_F71\n",
      "F72 -> 20151014_F72\n",
      "F73 -> 20151014_F73\n",
      "F74 -> 20151014_F74\n",
      "F75 -> 20151014_F75\n",
      "F76 -> 20151014_F76\n",
      "F77 -> 20151014_F77\n",
      "F78 -> 20151014_F78\n",
      "F79 -> 20151014_F79\n",
      "F8 -> 20151014_F8\n",
      "F80 -> 20151014_F80\n",
      "F81 -> 20151014_F81\n",
      "F82 -> 20151014_F82\n",
      "F83 -> 20151014_F83\n",
      "F84 -> 20151014_F84\n",
      "F85 -> 20151014_F85\n",
      "F86 -> 20151014_F86\n",
      "F87 -> 20151014_F87\n",
      "F88 -> 20151014_F88\n",
      "F9 -> 20151014_F9\n",
      "F90 -> 20151014_F90\n",
      "F91 -> 20151014_F91\n",
      "F93 -> 20151014_F93\n",
      "F94 -> 20151014_F94\n",
      "F95 -> 20151014_F95\n",
      "F96 -> 20151014_F96\n",
      "F97 -> 20151014_F97\n",
      "F99 -> 20151014_F99\n",
      "Hello.txt -> 20151014_Hello.txt\n",
      "Leonidas.txt -> 20151014_Leonidas.txt\n",
      "helloWorld.txt -> 20151014_helloWorld.txt\n",
      "kings.txt -> 20151014_kings.txt\n",
      "lowercase.txt -> 20151014_lowercase.txt\n",
      "merged_file -> 20151014_merged_file\n",
      "mixed_Case.txt -> 20151014_mixed_Case.txt\n"
     ]
    }
   ],
   "source": [
    "!for f in *; do mv -v -i $f `date \"+%Y%m%d\"`_$f; done"
   ]
  },
  {
   "cell_type": "markdown",
   "metadata": {},
   "source": [
    "### Exercise 6:"
   ]
  },
  {
   "cell_type": "markdown",
   "metadata": {},
   "source": [
    "#### Suppose we have a script that performs numerous efficiency tests. \n",
    "The output from the script contains lots of information, but our purpose now is to extract information about the CPU time of each test and sort these CPU times. The output from the tests takes the following form:\n"
   ]
  },
  {
   "cell_type": "code",
   "execution_count": 6,
   "metadata": {
    "collapsed": false
   },
   "outputs": [],
   "source": [
    "output = \"\"\"\n",
    "f95 -c -O0  versions/main_wIO.f F77WAVE.f\n",
    "f95 -o app  -static main_wIO.o F77WAVE.o   -lf2c\n",
    "app < input > tmp.out\n",
    "CPU-time: 255.97   f95 -O0 formatted I/O\n",
    "f95 -c -O1  versions/main_wIO.f F77WAVE.f\n",
    "f95 -o app  -static main_wIO.o F77WAVE.o   -lf2c\n",
    "app < input > tmp.out\n",
    "CPU-time: 252.47   f95 -O1 formatted I/O\n",
    "f95 -c -O2  versions/main_wIO.f F77WAVE.f\n",
    "f95 -o app  -static main_wIO.o F77WAVE.o   -lf2c\n",
    "app < input > tmp.out\n",
    "CPU-time: 252.40   f95 -O2 formatted I/O\n",
    "f95 -c -O3  versions/main_wIO.f F77WAVE.f\n",
    "f95 -o app  -static main_wIO.o F77WAVE.o   -lf2c\n",
    "app < input > tmp.out\n",
    "CPU-time: 255.28   f95 -O0 formatted I/O\n",
    "f95 -c -O4  versions/main_wIO.f F77WAVE.f\n",
    "f95 -o app  -static main_wIO.o F77WAVE.o   -lf2c\n",
    "app < input > tmp.out\n",
    "CPU-time: 251.43  f95 -O0 formatted I/O\n",
    "f95 -c -O5  versions/main_wIO.f F77WAVE.f\n",
    "f95 -o app  -static main_wIO.o F77WAVE.o   -lf2c\n",
    "app < input > tmp.out\n",
    "CPU-time: 255.90   f95 -O0 formatted I/O\n",
    "f95 -c -O6  versions/main_wIO.f F77WAVE.f\n",
    "f95 -o app  -static main_wIO.o F77WAVE.o   -lf2c\n",
    "app < input > tmp.out\n",
    "CPU-time: 252.15   f95 -O0 formatted I/O\n",
    "\"\"\""
   ]
  },
  {
   "cell_type": "markdown",
   "metadata": {},
   "source": [
    "First we need to extract the lines starting with CPU-time. \n",
    "Then we need to sort the extracted lines with respect to the CPU time, which is the number appearing in the second column. \n",
    "Write a script to accomplish this task. \n",
    "\n",
    "Hint: Find the lines with CPU time results by using a string comparison of the first 7 characters \n",
    "to detect the keyword CPU-time. Then write a tailored sort function for sorting two lines \n",
    "(extract the CPU time from the second column in both lines and compare the CPU times as floating-point numbers). \n",
    "A tailored sort function takes two arguments a and b, which hold two list elements. \n",
    "The sort function returns -1 if a is less than b, 1 if a is greater than b, and 0 otherwise (a equals b)."
   ]
  },
  {
   "cell_type": "markdown",
   "metadata": {},
   "source": [
    "*This is a python function and script to take the string output of efficiency tests and prints the CPU-time ordered by the time.\n",
    "I would personally like to see the processes taking the longest time, so sorting in reverse.*\n",
    "\n",
    "*I am a bit confused on the hint.  It seems overly complicated for the task at hand, unless I am mis-understanding the objective which is sort CPU-times.*"
   ]
  },
  {
   "cell_type": "code",
   "execution_count": 7,
   "metadata": {
    "collapsed": false
   },
   "outputs": [
    {
     "data": {
      "text/plain": [
       "['CPU-time: 251.43  f95 -O0 formatted I/O\\n',\n",
       " 'CPU-time: 252.15   f95 -O0 formatted I/O',\n",
       " 'CPU-time: 252.40   f95 -O2 formatted I/O',\n",
       " 'CPU-time: 252.47   f95 -O1 formatted I/O',\n",
       " 'CPU-time: 255.28   f95 -O0 formatted I/O',\n",
       " 'CPU-time: 255.90   f95 -O0 formatted I/O',\n",
       " 'CPU-time: 255.97   f95 -O0 formatted I/O']"
      ]
     },
     "execution_count": 7,
     "metadata": {},
     "output_type": "execute_result"
    }
   ],
   "source": [
    "###Python implementation\n",
    "a = [i for i in range(len(output)) if output.startswith('CPU-time', i)]\n",
    "p = []\n",
    "for k in a:\n",
    "    p.append(output[k:k+40])\n",
    "p.sort(key=lambda x:float(float(x.split()[1])))\n",
    "p"
   ]
  },
  {
   "cell_type": "code",
   "execution_count": 22,
   "metadata": {
    "collapsed": false
   },
   "outputs": [
    {
     "name": "stdout",
     "output_type": "stream",
     "text": [
      "CPU-time: 255.97   f95 -O0 formatted I/O \r\n",
      "CPU-time: 255.9   f95 -O0 formatted I/O \r\n",
      "CPU-time: 255.28   f95 -O0 formatted I/O \r\n",
      "CPU-time: 252.47   f95 -O1 formatted I/O \r\n",
      "CPU-time: 252.4   f95 -O2 formatted I/O \r\n",
      "CPU-time: 252.15   f95 -O0 formatted I/O \r\n",
      "CPU-time: 251.43  f95 -O0 formatted I/O \r\n"
     ]
    }
   ],
   "source": [
    "def order_cpu_time(my_output):\n",
    "    cpu_list=!(echo \"$my_output\" | grep ^CPU-time )\n",
    "\n",
    "    mylist = []\n",
    "\n",
    "    for index, a in enumerate(cpu_list):\n",
    "        mylist.append(a.split(' '))\n",
    "        mylist[index][1] = float(mylist[index][1])\n",
    "\n",
    "    for b in sorted(mylist, key=itemgetter(1), reverse=True):\n",
    "        for i in range(len(b)):\n",
    "            print str(b[i]),\n",
    "        print '\\r'\n",
    "\n",
    "order_cpu_time(output)"
   ]
  },
  {
   "cell_type": "markdown",
   "metadata": {},
   "source": [
    "### Excercise 7:"
   ]
  },
  {
   "cell_type": "markdown",
   "metadata": {
    "collapsed": false
   },
   "source": [
    "Make a copy of your working directory along with its subdirectories and \n",
    "write unix+python commands that traverses the copied working directory and its subdirectories (recursively) and returns a \n",
    "list of all files that are larger than X Mb and that have not been accessed the last Y days, \n",
    "where X and Y are passed as user inputs.\n",
    "Include an option in this function that moves the files to a subdirectory trash under /tmp \n",
    "(you need to create trash if it does not exist)."
   ]
  },
  {
   "cell_type": "code",
   "execution_count": 24,
   "metadata": {
    "collapsed": false
   },
   "outputs": [
    {
     "name": "stdout",
     "output_type": "stream",
     "text": [
      "/Users/mikihardisty/Documents/DSE\n"
     ]
    }
   ],
   "source": [
    "%cd ~/Documents/DSE/\n",
    "%mkdir copy_workingdir"
   ]
  },
  {
   "cell_type": "code",
   "execution_count": 25,
   "metadata": {
    "collapsed": false
   },
   "outputs": [
    {
     "name": "stdout",
     "output_type": "stream",
     "text": [
      "/Users/mikihardisty/Documents/DSE/mhardist\n"
     ]
    }
   ],
   "source": [
    "%cd ~/Documents/DSE/mhardist\n",
    "!cp -R ./ ../copy_workingdir/"
   ]
  },
  {
   "cell_type": "code",
   "execution_count": 27,
   "metadata": {
    "collapsed": false
   },
   "outputs": [
    {
     "name": "stdout",
     "output_type": "stream",
     "text": [
      "You will be asked to enter 2 numbers.  These will return a subset of files in the  /Users/mikihardisty/Documents/DSE/mhardist directory and its subdirectories where the file is greater than a specified size (MB) and the file has not been accessed within a specified time period.\n",
      "Enter the smallest filesize to return (in MB):1\n",
      "Enter the number of days the returned file(s) have not been accessed: 1\n",
      "Would you like to move the files returned to the trash (Y/N)?Y\n",
      "\n",
      "The following files are larger than 1 MB and have not been accessed in the past 1 day(s):\n",
      "./.git/objects/12/ed295d740eacfbd5b77471ae26668f4a7a8d49\n",
      "./.git/objects/19/20ee48a812e62b6bad2782af2c590d801e0a54\n",
      "./.git/objects/38/7bb35846d2863c3e56a5260e6a75c15cd4e5a0\n",
      "./.git/objects/89/00a9d2973764805f633196cab1c0c973ffdb2c\n",
      "./.git/objects/be/526512711d39d7f081972972b3df5bc25e8129\n",
      "./.git/objects/ce/cf871ec12f73f4d17414b304ab5af2b5129fe9\n",
      "./.git/objects/d9/fc3dfc64a33d80ff286b9598aef4a4b079d4ef\n",
      "./.git/objects/eb/308e13ee0f57c8ee28043b96db88f17fd4fbb3\n"
     ]
    }
   ],
   "source": [
    "mypath = %pwd\n",
    "print \"You will be asked to enter 2 numbers.  These will return a subset of files in the \", mypath, \"directory and its subdirectories where the file is greater than a specified size (MB) and the file has not been accessed within a specified time period.\"\n",
    "\n",
    "X = int(input('Enter the smallest filesize to return (in MB):'))\n",
    "Y = int(input('Enter the number of days the returned file(s) have not been accessed: '))\n",
    "trash_it = raw_input('Would you like to move the files returned to the trash (Y/N)?')\n",
    "\n",
    "!if [ -d \"tmp/trash\" ]; then echo \"\\r\"; else mkdir tmp/trash; fi\n",
    "\n",
    "print \"The following files are larger than\", X, \"MB and have not been accessed in the past\", Y, \"day(s):\"\n",
    "\n",
    "myfiles =  !(find . -type f -atime +{Y} -size +{X}M)\n",
    "\n",
    "for a in myfiles:\n",
    "    if trash_it == 'Y':\n",
    "        !(mv {a} tmp/trash/)\n",
    "        print a\n",
    "    else:\n",
    "        print a"
   ]
  },
  {
   "cell_type": "code",
   "execution_count": 29,
   "metadata": {
    "collapsed": false
   },
   "outputs": [
    {
     "name": "stdout",
     "output_type": "stream",
     "text": [
      "/Users/mikihardisty/Documents/DSE/mhardist/tmp/trash\n",
      "total 109256\r\n",
      "-r--r--r--  1 mikihardisty  staff   1338051 Sep 29 10:01 00a9d2973764805f633196cab1c0c973ffdb2c\r\n",
      "-r--r--r--  1 mikihardisty  staff   1957854 Oct  2 14:43 20ee48a812e62b6bad2782af2c590d801e0a54\r\n",
      "-r--r--r--  1 mikihardisty  staff   2102451 Oct  2 14:43 308e13ee0f57c8ee28043b96db88f17fd4fbb3\r\n",
      "-r--r--r--  1 mikihardisty  staff   2117708 Oct  2 14:43 526512711d39d7f081972972b3df5bc25e8129\r\n",
      "-r--r--r--  1 mikihardisty  staff   4646443 Oct  2 14:43 7bb35846d2863c3e56a5260e6a75c15cd4e5a0\r\n",
      "-r--r--r--  1 mikihardisty  staff   4054725 Oct  2 14:43 cf871ec12f73f4d17414b304ab5af2b5129fe9\r\n",
      "-r--r--r--  1 mikihardisty  staff   9693218 Oct  2 14:43 ed295d740eacfbd5b77471ae26668f4a7a8d49\r\n",
      "-r--r--r--  1 mikihardisty  staff  30012220 Oct  2 14:43 fc3dfc64a33d80ff286b9598aef4a4b079d4ef\r\n"
     ]
    }
   ],
   "source": [
    "%cd tmp/trash\n",
    "!ls -l"
   ]
  }
 ],
 "metadata": {
  "kernelspec": {
   "display_name": "Python 2",
   "language": "python",
   "name": "python2"
  },
  "language_info": {
   "codemirror_mode": {
    "name": "ipython",
    "version": 2
   },
   "file_extension": ".py",
   "mimetype": "text/x-python",
   "name": "python",
   "nbconvert_exporter": "python",
   "pygments_lexer": "ipython2",
   "version": "2.7.10"
  }
 },
 "nbformat": 4,
 "nbformat_minor": 0
}
